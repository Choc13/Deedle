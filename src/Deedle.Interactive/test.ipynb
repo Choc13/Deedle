{
 "cells": [
  {
   "cell_type": "markdown",
   "metadata": {
    "dotnet_interactive": {
     "language": "fsharp"
    }
   },
   "source": [
    "To reproduce the package, run `./Repack.ps1` in powershell. It will clean your cache in `~/.nuget/packages` and pack the library to `Deedle/pkg` folder, which you should specify below (absolute paths only) in `#i` line.\n",
    "\n",
    "The version of the package is always `0.0.0-dev`.\n",
    "\n",
    "To rre-run the build/repack you have to restart the notebook kernel, otherwise we cannot remove the referenced local nuget package."
   ]
  },
  {
   "cell_type": "code",
   "execution_count": null,
   "metadata": {
    "dotnet_interactive": {
     "language": "fsharp"
    }
   },
   "outputs": [
    {
     "data": {
      "text/html": [
       "<div><div><strong>Restore sources</strong><ul><li><span> C:/Users/schne/source/repos/fslaborg/Deedle/pkg</span></li></ul></div><div></div><div><strong>Installed Packages</strong><ul><li><span>Deedle, 0.0.0-dev</span></li><li><span>Deedle.Interactive, 0.0.0-dev</span></li></ul></div></div>"
      ]
     },
     "metadata": {},
     "output_type": "display_data"
    },
    {
     "data": {
      "text/markdown": [
       "Loading extensions from `Deedle.Interactive.dll`"
      ]
     },
     "metadata": {},
     "output_type": "display_data"
    }
   ],
   "source": [
    "// be advised, that you always should set absolute paths for local nuget packages - change this to reflect your own setup\n",
    "#i \"nuget: C:/Users/schne/source/repos/fslaborg/Deedle/pkg\"\n",
    "#r \"nuget: Deedle, 0.0.0-dev\"\n",
    "#r \"nuget: Deedle.Interactive, 0.0.0-dev\""
   ]
  },
  {
   "cell_type": "markdown",
   "metadata": {},
   "source": [
    "# Simple Frame\n",
    "\n",
    "This example shows a simple frame with no nested keys. It also doe snot exceed maxrows/cols to display."
   ]
  },
  {
   "cell_type": "code",
   "execution_count": null,
   "metadata": {
    "dotnet_interactive": {
     "language": "fsharp"
    }
   },
   "outputs": [
    {
     "data": {
      "text/html": [
       "<div>\r\n",
       "<style scoped>\\n\",\r\n",
       "  .dataframe tbody tr th:only-of-type {\r\n",
       "    vertical-align: middle;\r\n",
       "  }\r\n",
       "  .dataframe tbody tr th {\\n\",\r\n",
       "    vertical-align: top\r\n",
       "  }\r\n",
       "\r\n",
       "  .dataframe thead th {\r\n",
       "    text-align: right;\r\n",
       "  }\r\n",
       "  .no-wrap {\r\n",
       "    white-space: nowrap;\r\n",
       "  }\r\n",
       "</style>\r\n",
       "<table border=\"1\" class=\"dataframe\">\r\n",
       "<thead><th></th><th></th><th>C1</th><th>C2</th><th>C3</th><th>C4</th><th>C5</th></thead><thead><th></th><th></th><th>(int)</th><th>(int)</th><th>(int)</th><th>(int)</th><th>(int)</th></thead>\r\n",
       "<tr><td><b>R1</b></td><td class=\"no-wrap\">-></td><td>1</td><td>3</td><td>5</td><td>7</td><td>9</td></tr><tr><td><b>R2</b></td><td class=\"no-wrap\">-></td><td>2</td><td>4</td><td>6</td><td>8</td><td>10</td></tr>\r\n",
       "</table>\r\n",
       "<br>\r\n",
       "<p>2 rows x 5 columns</p>\r\n"
      ]
     },
     "metadata": {},
     "output_type": "display_data"
    }
   ],
   "source": [
    "open Deedle\n",
    "\n",
    "frame [\n",
    "    \"C1\" => series [\"R1\" => 1; \"R2\" => 2]\n",
    "    \"C2\" => series [\"R1\" => 3; \"R2\" => 4]\n",
    "    \"C3\" => series [\"R1\" => 5; \"R2\" => 6]\n",
    "    \"C4\" => series [\"R1\" => 7; \"R2\" => 8]\n",
    "    \"C5\" => series [\"R1\" => 9; \"R2\" => 10]\n",
    "]"
   ]
  },
  {
   "cell_type": "markdown",
   "metadata": {},
   "source": [
    "# Complex frame\n",
    "\n",
    "This example shows a more complex frame with nested keys for both columns and rows. It also exceeds maxrows/cols to display."
   ]
  },
  {
   "cell_type": "code",
   "execution_count": null,
   "metadata": {
    "dotnet_interactive": {
     "language": "fsharp"
    }
   },
   "outputs": [
    {
     "data": {
      "text/html": [
       "<div>\r\n",
       "<style scoped>\\n\",\r\n",
       "  .dataframe tbody tr th:only-of-type {\r\n",
       "    vertical-align: middle;\r\n",
       "  }\r\n",
       "  .dataframe tbody tr th {\\n\",\r\n",
       "    vertical-align: top\r\n",
       "  }\r\n",
       "\r\n",
       "  .dataframe thead th {\r\n",
       "    text-align: right;\r\n",
       "  }\r\n",
       "  .no-wrap {\r\n",
       "    white-space: nowrap;\r\n",
       "  }\r\n",
       "</style>\r\n",
       "<table border=\"1\" class=\"dataframe\">\r\n",
       "<thead><th></th><th></th><th></th><th></th><th>1</th><th>2</th><th>3</th><th>4</th><th>5</th><th>6</th><th>7</th><th>8</th><th>9</th><th>10</th><th>...</th><th>41</th><th>42</th><th>43</th><th>44</th><th>45</th><th>46</th><th>47</th><th>48</th><th>49</th><th>50</th></thead><thead><th></th><th></th><th></th><th></th><th>1 (as string)</th><th>2 (as string)</th><th>3 (as string)</th><th>4 (as string)</th><th>5 (as string)</th><th>6 (as string)</th><th>7 (as string)</th><th>8 (as string)</th><th>9 (as string)</th><th>10 (as string)</th><th>...</th><th>41 (as string)</th><th>42 (as string)</th><th>43 (as string)</th><th>44 (as string)</th><th>45 (as string)</th><th>46 (as string)</th><th>47 (as string)</th><th>48 (as string)</th><th>49 (as string)</th><th>50 (as string)</th></thead><thead><th></th><th></th><th></th><th></th><th>1</th><th>2</th><th>3</th><th>4</th><th>5</th><th>6</th><th>7</th><th>8</th><th>9</th><th>10</th><th>...</th><th>41</th><th>42</th><th>43</th><th>44</th><th>45</th><th>46</th><th>47</th><th>48</th><th>49</th><th>50</th></thead><thead><th></th><th></th><th></th><th></th><th>(int)</th><th>(int)</th><th>(int)</th><th>(int)</th><th>(int)</th><th>(int)</th><th>(int)</th><th>(int)</th><th>(int)</th><th>(int)</th><th>...</th><th>(int)</th><th>(int)</th><th>(int)</th><th>(int)</th><th>(int)</th><th>(int)</th><th>(int)</th><th>(int)</th><th>(int)</th><th>(int)</th></thead>\r\n",
       "<tr><td><b>1</b></td><td><b>1</b></td><td><b>1</b></td><td class=\"no-wrap\">-></td><td>1</td><td>1</td><td>1</td><td>1</td><td>1</td><td>1</td><td>1</td><td>1</td><td>1</td><td>1</td><td>...</td><td>1</td><td>1</td><td>1</td><td>1</td><td>1</td><td>1</td><td>1</td><td>1</td><td>1</td><td>1</td></tr><tr><td><b>2</b></td><td><b>2</b></td><td><b>2</b></td><td class=\"no-wrap\">-></td><td>2</td><td>2</td><td>2</td><td>2</td><td>2</td><td>2</td><td>2</td><td>2</td><td>2</td><td>2</td><td>...</td><td>2</td><td>2</td><td>2</td><td>2</td><td>2</td><td>2</td><td>2</td><td>2</td><td>2</td><td>2</td></tr><tr><td><b>3</b></td><td><b>3</b></td><td><b>3</b></td><td class=\"no-wrap\">-></td><td>3</td><td>3</td><td>3</td><td>3</td><td>3</td><td>3</td><td>3</td><td>3</td><td>3</td><td>3</td><td>...</td><td>3</td><td>3</td><td>3</td><td>3</td><td>3</td><td>3</td><td>3</td><td>3</td><td>3</td><td>3</td></tr><tr><td><b>4</b></td><td><b>4</b></td><td><b>4</b></td><td class=\"no-wrap\">-></td><td>4</td><td>4</td><td>4</td><td>4</td><td>4</td><td>4</td><td>4</td><td>4</td><td>4</td><td>4</td><td>...</td><td>4</td><td>4</td><td>4</td><td>4</td><td>4</td><td>4</td><td>4</td><td>4</td><td>4</td><td>4</td></tr><tr><td><b>5</b></td><td><b>5</b></td><td><b>5</b></td><td class=\"no-wrap\">-></td><td>5</td><td>5</td><td>5</td><td>5</td><td>5</td><td>5</td><td>5</td><td>5</td><td>5</td><td>5</td><td>...</td><td>5</td><td>5</td><td>5</td><td>5</td><td>5</td><td>5</td><td>5</td><td>5</td><td>5</td><td>5</td></tr><tr><td><b>:</b></td><td><b>:</b></td><td><b>:</b></td><td class=\"no-wrap\"></td><td>...</td><td>...</td><td>...</td><td>...</td><td>...</td><td>...</td><td>...</td><td>...</td><td>...</td><td>...</td><td>...</td><td>...</td><td>...</td><td>...</td><td>...</td><td>...</td><td>...</td><td>...</td><td>...</td><td>...</td><td>...</td></tr><tr><td><b>196</b></td><td><b>196</b></td><td><b>196</b></td><td class=\"no-wrap\">-></td><td>196</td><td>196</td><td>196</td><td>196</td><td>196</td><td>196</td><td>196</td><td>196</td><td>196</td><td>196</td><td>...</td><td>196</td><td>196</td><td>196</td><td>196</td><td>196</td><td>196</td><td>196</td><td>196</td><td>196</td><td>196</td></tr><tr><td><b>197</b></td><td><b>197</b></td><td><b>197</b></td><td class=\"no-wrap\">-></td><td>197</td><td>197</td><td>197</td><td>197</td><td>197</td><td>197</td><td>197</td><td>197</td><td>197</td><td>197</td><td>...</td><td>197</td><td>197</td><td>197</td><td>197</td><td>197</td><td>197</td><td>197</td><td>197</td><td>197</td><td>197</td></tr><tr><td><b>198</b></td><td><b>198</b></td><td><b>198</b></td><td class=\"no-wrap\">-></td><td>198</td><td>198</td><td>198</td><td>198</td><td>198</td><td>198</td><td>198</td><td>198</td><td>198</td><td>198</td><td>...</td><td>198</td><td>198</td><td>198</td><td>198</td><td>198</td><td>198</td><td>198</td><td>198</td><td>198</td><td>198</td></tr><tr><td><b>199</b></td><td><b>199</b></td><td><b>199</b></td><td class=\"no-wrap\">-></td><td>199</td><td>199</td><td>199</td><td>199</td><td>199</td><td>199</td><td>199</td><td>199</td><td>199</td><td>199</td><td>...</td><td>199</td><td>199</td><td>199</td><td>199</td><td>199</td><td>199</td><td>199</td><td>199</td><td>199</td><td>199</td></tr><tr><td><b>200</b></td><td><b>200</b></td><td><b>200</b></td><td class=\"no-wrap\">-></td><td>200</td><td>200</td><td>200</td><td>200</td><td>200</td><td>200</td><td>200</td><td>200</td><td>200</td><td>200</td><td>...</td><td>200</td><td>200</td><td>200</td><td>200</td><td>200</td><td>200</td><td>200</td><td>200</td><td>200</td><td>200</td></tr>\r\n",
       "</table>\r\n",
       "<br>\r\n",
       "<p>200 rows x 50 columns</p>\r\n"
      ]
     },
     "metadata": {},
     "output_type": "display_data"
    }
   ],
   "source": [
    "open Deedle\n",
    "\n",
    "let a = \n",
    "    frame [\n",
    "        for i in 1 .. 50 ->\n",
    "            (i,($\"{i} (as string)\", float i)) => series [for ii in 1 .. 200 -> (ii,(string ii, float ii)) => ii]\n",
    "    ]\n",
    "\n",
    "\n",
    "a"
   ]
  },
  {
   "cell_type": "markdown",
   "metadata": {},
   "source": [
    "# Customizing interactive formatter config\n",
    "\n",
    "Some settings are exposed as mutable values so they can be changed on the fly:"
   ]
  },
  {
   "cell_type": "code",
   "execution_count": null,
   "metadata": {
    "dotnet_interactive": {
     "language": "fsharp"
    }
   },
   "outputs": [
    {
     "data": {
      "text/html": [
       "<div>\r\n",
       "<style scoped>\\n\",\r\n",
       "  .dataframe tbody tr th:only-of-type {\r\n",
       "    vertical-align: middle;\r\n",
       "  }\r\n",
       "  .dataframe tbody tr th {\\n\",\r\n",
       "    vertical-align: top\r\n",
       "  }\r\n",
       "\r\n",
       "  .dataframe thead th {\r\n",
       "    text-align: right;\r\n",
       "  }\r\n",
       "  .no-wrap {\r\n",
       "    white-space: nowrap;\r\n",
       "  }\r\n",
       "</style>\r\n",
       "<table border=\"1\" class=\"dataframe\">\r\n",
       "<thead><th></th><th></th><th>C1</th><th>...</th><th>C5</th></thead><thead><th>R1</th><th>-></th><th>1</th><th>...</th><th>9</th></thead>\r\n",
       "<tr><td><b>:</b></td><td class=\"no-wrap\"></td><td>...</td><td>...</td><td>...</td></tr><tr><td><b>R3</b></td><td class=\"no-wrap\">-></td><td>2</td><td>...</td><td>10</td></tr>\r\n",
       "</table>\r\n",
       "<br>\r\n",
       "<p>3 rows x 5 columns</p>\r\n"
      ]
     },
     "metadata": {},
     "output_type": "display_data"
    }
   ],
   "source": [
    "Deedle.Interactive.InteractiveConfig.MaxCols <- 2\n",
    "Deedle.Interactive.InteractiveConfig.MaxRows <- 2\n",
    "Deedle.Interactive.InteractiveConfig.ShowColTypes <- false\n",
    "\n",
    "frame [\n",
    "    \"C1\" => series [\"R1\" => 1; \"R2\" => 2  ;\"R3\" => 2   ]\n",
    "    \"C2\" => series [\"R1\" => 3; \"R2\" => 4  ;\"R3\" => 4   ]\n",
    "    \"C3\" => series [\"R1\" => 5; \"R2\" => 6  ;\"R3\" => 6   ]\n",
    "    \"C4\" => series [\"R1\" => 7; \"R2\" => 8  ;\"R3\" => 8   ]\n",
    "    \"C5\" => series [\"R1\" => 9; \"R2\" => 10 ;\"R3\" => 10  ]\n",
    "]"
   ]
  },
  {
   "cell_type": "markdown",
   "metadata": {},
   "source": [
    "these settings can also be reset:"
   ]
  },
  {
   "cell_type": "code",
   "execution_count": null,
   "metadata": {
    "dotnet_interactive": {
     "language": "fsharp"
    }
   },
   "outputs": [],
   "source": [
    "Deedle.Interactive.InteractiveConfig.reset()\n",
    "\n",
    "frame [\n",
    "    \"C1\" => series [\"R1\" => 1; \"R2\" => 2  ;\"R3\" => 2   ]\n",
    "    \"C2\" => series [\"R1\" => 3; \"R2\" => 4  ;\"R3\" => 4   ]\n",
    "    \"C3\" => series [\"R1\" => 5; \"R2\" => 6  ;\"R3\" => 6   ]\n",
    "    \"C4\" => series [\"R1\" => 7; \"R2\" => 8  ;\"R3\" => 8   ]\n",
    "    \"C5\" => series [\"R1\" => 9; \"R2\" => 10 ;\"R3\" => 10  ]\n",
    "]"
   ]
  }
 ],
 "metadata": {
  "kernelspec": {
   "display_name": ".NET (F#)",
   "language": "F#",
   "name": ".net-fsharp"
  },
  "language_info": {
   "name": "F#"
  }
 },
 "nbformat": 4,
 "nbformat_minor": 2
}
